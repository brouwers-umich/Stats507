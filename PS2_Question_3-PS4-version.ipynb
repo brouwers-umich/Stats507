{
 "cells": [
  {
   "cell_type": "code",
   "execution_count": 1,
   "metadata": {},
   "outputs": [],
   "source": [
    "import numpy as np\n",
    "import pandas as pd"
   ]
  },
  {
   "cell_type": "markdown",
   "metadata": {},
   "source": [
    "# Question 3"
   ]
  },
  {
   "cell_type": "markdown",
   "metadata": {},
   "source": [
    "**Question 3 a)**"
   ]
  },
  {
   "cell_type": "code",
   "execution_count": 2,
   "metadata": {},
   "outputs": [],
   "source": [
    "nhanes_demo_11_12 = pd.read_sas('https://wwwn.cdc.gov/Nchs/Nhanes/2011-2012/DEMO_G.XPT')\n",
    "nhanes_demo_13_14 = pd.read_sas('https://wwwn.cdc.gov/Nchs/Nhanes/2013-2014/DEMO_H.XPT')\n",
    "nhanes_demo_15_16 = pd.read_sas('https://wwwn.cdc.gov/Nchs/Nhanes/2015-2016/DEMO_I.XPT')\n",
    "nhanes_demo_17_18 = pd.read_sas('https://wwwn.cdc.gov/Nchs/Nhanes/2017-2018/DEMO_J.XPT')"
   ]
  },
  {
   "cell_type": "code",
   "execution_count": 3,
   "metadata": {},
   "outputs": [],
   "source": [
    "year_11_12 = pd.DataFrame([\"2011-2012\"]*nhanes_demo_11_12.shape[0])\n",
    "year_13_14 = pd.DataFrame([\"2013-2014\"]*nhanes_demo_13_14.shape[0])\n",
    "year_15_16 = pd.DataFrame([\"2015-2016\"]*nhanes_demo_15_16.shape[0])\n",
    "year_17_18 = pd.DataFrame([\"2017-2018\"]*nhanes_demo_17_18.shape[0])\n",
    "\n",
    "nhanes_demo_11_12[\"cohort\"] = year_11_12 # Adds the cohort column to the dataframe.\n",
    "nhanes_demo_13_14[\"cohort\"] = year_13_14\n",
    "nhanes_demo_15_16[\"cohort\"] = year_15_16\n",
    "nhanes_demo_17_18[\"cohort\"] = year_17_18"
   ]
  },
  {
   "cell_type": "code",
   "execution_count": 4,
   "metadata": {},
   "outputs": [],
   "source": [
    "variables = [\"cohort\", \"SEQN\", \"RIAGENDR\", \"RIDAGEYR\", \"RIDRETH3\", \"DMDEDUC2\", \"DMDMARTL\",\n",
    "             \"RIDSTATR\", \"SDMVPSU\", \"SDMVSTRA\", \"WTMEC2YR\", \"WTINT2YR\"]\n",
    "nhanes_demo_data = pd.concat([nhanes_demo_11_12[variables], nhanes_demo_13_14[variables],\n",
    "                              nhanes_demo_15_16[variables], nhanes_demo_17_18[variables]])\n",
    "# Selects the required variables from the dataset and merges the four seperate datasets to one."
   ]
  },
  {
   "cell_type": "code",
   "execution_count": 5,
   "metadata": {},
   "outputs": [],
   "source": [
    "new_variables = {\"SEQN\": \"id_number\", \"RIDAGEYR\": \"age\", \"RIAGENDR\": \"gender\", \"RIDRETH3\": \"race_ethnicity\",\n",
    "                 \"DMDEDUC2\": \"education\", \"DMDMARTL\": \"marital_status\", \"RIDSTATR\": \"exam_status\",\n",
    "                 \"SDMVPSU\": \"masked_variance_psu\", \"SDMVSTRA\": \"masked_variance_stratum\",\n",
    "                 \"WTMEC2YR\": \"mec_exam_weight\", \"WTINT2YR\": \"interview_weight\"}\n",
    "nhanes_demo_data.rename(columns=new_variables, inplace=True)\n",
    "# Changes the name of the variables."
   ]
  },
  {
   "cell_type": "code",
   "execution_count": 6,
   "metadata": {},
   "outputs": [],
   "source": [
    "nhanes_demo_data['race_ethnicity'] = pd.Categorical(nhanes_demo_data['race_ethnicity'].replace({\n",
    "                                                    1: 'mexican american',\n",
    "                                                    2: 'other hispanic',\n",
    "                                                    3: 'non-hispanic white',\n",
    "                                                    4: 'non-hispanic black',\n",
    "                                                    6: 'non-hispanic asian',\n",
    "                                                    7: 'other races'}))\n",
    "nhanes_demo_data['marital_status'] = pd.Categorical(nhanes_demo_data['marital_status'].replace({\n",
    "                                                    1: 'married', 2: \"widowed\", 3: 'divorced',\n",
    "                                                    4: 'seperated', 5: 'never married',\n",
    "                                                    6: 'living with partner',\n",
    "                                                    77: 'refused', 99: 'don\\'t know'}))\n",
    "nhanes_demo_data['gender'] = pd.Categorical(nhanes_demo_data['gender'].replace({\n",
    "                                                    1: 'male', 2: 'female'}))"
   ]
  },
  {
   "cell_type": "code",
   "execution_count": 7,
   "metadata": {},
   "outputs": [],
   "source": [
    "types = {'id_number': 'int', 'age': 'int', 'race_ethnicity': 'category', 'education': 'category',\n",
    "         'marital_status': 'category', 'exam_status': 'category', 'masked_variance_psu': 'int',\n",
    "         'masked_variance_stratum': 'int'}\n",
    "nhanes_demo_data = nhanes_demo_data.astype(types)\n",
    "# Changes the type of the data to appropriate types"
   ]
  },
  {
   "cell_type": "code",
   "execution_count": 8,
   "metadata": {},
   "outputs": [],
   "source": [
    "nhanes_demo_data.to_pickle(\"./Nhanes_demo_data.pkl\")"
   ]
  },
  {
   "cell_type": "markdown",
   "metadata": {},
   "source": [
    "**Question 3 b)**"
   ]
  },
  {
   "cell_type": "code",
   "execution_count": 9,
   "metadata": {},
   "outputs": [],
   "source": [
    "nhanes_ohxden_11_12 = pd.read_sas(\"https://wwwn.cdc.gov/Nchs/Nhanes/2011-2012/OHXDEN_G.XPT\")\n",
    "nhanes_ohxden_13_14 = pd.read_sas(\"https://wwwn.cdc.gov/Nchs/Nhanes/2013-2014/OHXDEN_H.XPT\")\n",
    "nhanes_ohxden_15_16 = pd.read_sas(\"https://wwwn.cdc.gov/Nchs/Nhanes/2015-2016/OHXDEN_I.XPT\")\n",
    "nhanes_ohxden_17_18 = pd.read_sas(\"https://wwwn.cdc.gov/Nchs/Nhanes/2017-2018/OHXDEN_J.XPT\")"
   ]
  },
  {
   "cell_type": "code",
   "execution_count": 10,
   "metadata": {},
   "outputs": [],
   "source": [
    "year_11_12 = pd.DataFrame([\"2011-2012\"]*nhanes_ohxden_11_12.shape[0])\n",
    "year_13_14 = pd.DataFrame([\"2013-2014\"]*nhanes_ohxden_13_14.shape[0])\n",
    "year_15_16 = pd.DataFrame([\"2015-2016\"]*nhanes_ohxden_15_16.shape[0])\n",
    "year_17_18 = pd.DataFrame([\"2017-2018\"]*nhanes_ohxden_17_18.shape[0])\n",
    "\n",
    "nhanes_ohxden_11_12[\"cohort\"] = year_11_12 # Adds the cohort column to the dataframe.\n",
    "nhanes_ohxden_13_14[\"cohort\"] = year_13_14\n",
    "nhanes_ohxden_15_16[\"cohort\"] = year_15_16\n",
    "nhanes_ohxden_17_18[\"cohort\"] = year_17_18"
   ]
  },
  {
   "cell_type": "code",
   "execution_count": 11,
   "metadata": {},
   "outputs": [],
   "source": [
    "def OHXxxCTC():\n",
    "    '''\n",
    "    This function generates a list of strings of the required variables\n",
    "    with the name OHXxxCTC where the 'xx' gets replaced with appropiate numbers.\n",
    "    \n",
    "    Arguments:\n",
    "        None\n",
    "        \n",
    "    Returns:\n",
    "        A list of strings with correct variable names.    \n",
    "    '''\n",
    "    test = [\"1\"]*28\n",
    "    for i in range(2, 32):\n",
    "        if i < 10:\n",
    "            tries = \"OHX0{}CTC\".format(i)\n",
    "            test[i-2] = tries\n",
    "        elif 10 <= i <= 15:\n",
    "            tries = \"OHX{}CTC\".format(i)\n",
    "            test[i-2] = tries\n",
    "        elif i >= 18:\n",
    "            tries = \"OHX{}CTC\".format(i)\n",
    "            test[i-4] = tries\n",
    "    return test"
   ]
  },
  {
   "cell_type": "code",
   "execution_count": 12,
   "metadata": {},
   "outputs": [],
   "source": [
    "def OHXxxTC():\n",
    "    '''\n",
    "    This function generates a list of strings of the required variables\n",
    "    with the name OHxxCTC where the 'xx' gets replaced with appropiate numbers.\n",
    "    \n",
    "    Arguments:\n",
    "        None\n",
    "        \n",
    "    Returns:\n",
    "        A list of strings with correct variable names.    \n",
    "    '''\n",
    "    test = [\"1\"]*32\n",
    "    for i in range(1, 33):\n",
    "        if i < 10:\n",
    "            tries = \"OHX0{}TC\".format(i)\n",
    "            test[i-1] = tries\n",
    "        else:\n",
    "            tries = \"OHX{}TC\".format(i)\n",
    "            test[i-1] = tries\n",
    "    return test"
   ]
  },
  {
   "cell_type": "code",
   "execution_count": 13,
   "metadata": {},
   "outputs": [],
   "source": [
    "OHXxxTC_str = OHXxxTC()\n",
    "OHXxxCTC_str = OHXxxCTC()\n",
    "variables = [\"cohort\", \"SEQN\", \"OHDDESTS\"]\n",
    "variables.extend(OHXxxTC_str)\n",
    "variables.extend(OHXxxCTC_str)\n",
    "nhanes_ohxden_data = pd.concat([nhanes_ohxden_11_12[variables], nhanes_ohxden_13_14[variables],\n",
    "                                nhanes_ohxden_15_16[variables], nhanes_ohxden_17_18[variables]])\n",
    "# Selects the required variables from the dataset and merges the four seperate datasets to one."
   ]
  },
  {
   "cell_type": "code",
   "execution_count": 14,
   "metadata": {},
   "outputs": [],
   "source": [
    "new_variables_ohxden = dict()\n",
    "for i in range(len(variables)):\n",
    "    if i == 0:\n",
    "        continue\n",
    "    elif i == 1:\n",
    "        new_variables_ohxden.update({\"SEQN\": \"id_number\"})\n",
    "    elif i == 2:\n",
    "        new_variables_ohxden.update({variables[i]: \"status_code\"})\n",
    "    elif 3 <= i <= 11:\n",
    "        string = \"tooth_count_0{}\".format(i-2)\n",
    "        new_variables_ohxden.update({variables[i]: string})\n",
    "    elif 12 <= i <= 34:\n",
    "        string = \"tooth_count_{}\".format(i-2)\n",
    "        new_variables_ohxden.update({variables[i]: string})\n",
    "    elif 35 <= i <= 42:\n",
    "        string = \"coronal_cavities 0{}\".format(i-33)\n",
    "        new_variables_ohxden.update({variables[i]: string})\n",
    "    elif 43 <= i <= 48:\n",
    "        string = \"coronal_cavities {}\".format(i-33)\n",
    "        new_variables_ohxden.update({variables[i]: string})\n",
    "    elif i >= 49:\n",
    "        string = \"coronal_cavities {}\".format(i-31)\n",
    "        new_variables_ohxden.update({variables[i]: string})\n",
    "# The code above creates a dictionary with the information needed to change the\n",
    "# names of the variables.\n",
    "\n",
    "nhanes_ohxden_data.rename(columns=new_variables_ohxden, inplace=True)\n",
    "# Changes the name of the variables."
   ]
  },
  {
   "cell_type": "code",
   "execution_count": 15,
   "metadata": {},
   "outputs": [],
   "source": [
    "new_types_ohxden = dict()\n",
    "columns = list(nhanes_ohxden_data.columns)\n",
    "for i in range(len(columns)):\n",
    "    if i == 0:\n",
    "        continue\n",
    "    elif i == 1:\n",
    "        new_types_ohxden.update({columns[i]: \"int\"})\n",
    "    elif i == 2:\n",
    "        new_types_ohxden.update({columns[i]: \"category\"})\n",
    "    elif i > 2:\n",
    "        new_types_ohxden.update({columns[i]: \"category\"})\n",
    "# This creates a dictionary with the appropriate types for each variable."
   ]
  },
  {
   "cell_type": "code",
   "execution_count": 16,
   "metadata": {},
   "outputs": [],
   "source": [
    "nhanes_ohxden_data = nhanes_ohxden_data.astype(new_types_ohxden)\n",
    "# Changes the variables to the appropriate types."
   ]
  },
  {
   "cell_type": "code",
   "execution_count": 17,
   "metadata": {},
   "outputs": [],
   "source": [
    "nhanes_ohxden_data.to_pickle(\"./Nhanes_ohxden_data.pkl\")"
   ]
  }
 ],
 "metadata": {
  "kernelspec": {
   "display_name": "Python 3",
   "language": "python",
   "name": "python3"
  },
  "language_info": {
   "codemirror_mode": {
    "name": "ipython",
    "version": 3
   },
   "file_extension": ".py",
   "mimetype": "text/x-python",
   "name": "python",
   "nbconvert_exporter": "python",
   "pygments_lexer": "ipython3",
   "version": "3.8.5"
  }
 },
 "nbformat": 4,
 "nbformat_minor": 4
}
